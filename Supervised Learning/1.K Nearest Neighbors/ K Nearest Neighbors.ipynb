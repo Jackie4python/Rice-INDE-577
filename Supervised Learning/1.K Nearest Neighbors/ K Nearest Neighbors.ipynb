{
 "cells": [
  {
   "cell_type": "markdown",
   "id": "cc1a9468",
   "metadata": {},
   "source": [
    "---\n",
    "# K Nearest Neighbors\n",
    "\n",
    "---"
   ]
  },
  {
   "cell_type": "markdown",
   "id": "28a87444",
   "metadata": {},
   "source": [
    "K nearest neighbors is a simple algorithm that stores all available cases and classifies new cases based on a similarity measure (e.g., distance functions). KNN has been used in statistical estimation and pattern recognition already in the beginning of 1970’s as a non-parametric technique."
   ]
  },
  {
   "cell_type": "markdown",
   "id": "3ab05034",
   "metadata": {},
   "source": [
    "Knn uses follwoing as a distance function :"
   ]
  },
  {
   "attachments": {
    "image.png": {
     "image/png": "[encoded data removed]"
    }
   },
   "cell_type": "markdown",
   "id": "770bdd58",
   "metadata": {},
   "source": [
    "![image.png](attachment:image.png)"
   ]
  },
  {
   "cell_type": "markdown",
   "id": "a9020c72",
   "metadata": {},
   "source": [
    "- 1)Euclidean distance is calculated as the square root of the sum of the squared differences between a new point (x) and an existing point (xi) across all input attributes j.\n",
    "\n",
    "    EuclideanDistance(x, xi) = sqrt( sum( (xj – xij)^2 ) )\n",
    "    \n",
    "\n",
    "- 2)Manhattan Distance: Calculate the distance between real vectors using the sum of their absolute difference. Also called City Block Distance.\n",
    "\n",
    "- 3)Minkowski Distance: Generalization of Euclidean and Manhattan distance.\n",
    "\n"
   ]
  },
  {
   "cell_type": "markdown",
   "id": "c894a6c1",
   "metadata": {},
   "source": [
    "**Different disciplines in KNN**"
   ]
  },
  {
   "cell_type": "markdown",
   "id": "3dd51299",
   "metadata": {},
   "source": [
    "1) Instance-Based Learning: The raw training instances are used to make predictions. As such KNN is often referred to as instance-based learning or a case-based learning (where each training instance is a case from the problem domain).\n",
    "\n",
    "2) Lazy Learning: No learning of the model is required and all of the work happens at the time a prediction is requested. As such, KNN is often referred to as a lazy learning algorithm.\n",
    "\n",
    "3) Non-Parametric: KNN makes no assumptions about the functional form of the problem being solved. As such KNN is referred to as a non-parametric machine learning algorithm."
   ]
  },
  {
   "cell_type": "markdown",
   "id": "58b95caa",
   "metadata": {},
   "source": [
    "## Task\n",
    "\n",
    "In this project, I will build a KNN model from scratch and also use the knn model imported form scikit-learn. Then compare the result or these models.\n"
   ]
  },
  {
   "cell_type": "code",
   "execution_count": 5,
   "id": "0bdb655c",
   "metadata": {},
   "outputs": [],
   "source": [
    "import matplotlib.pyplot as plt\n",
    "import numpy as np\n",
    "import pandas as pd\n",
    "import seaborn as sns\n",
    "from sklearn.model_selection import train_test_split\n",
    "from sklearn.neighbors import KNeighborsClassifier\n",
    "from sklearn.metrics import confusion_matrix, classification_report"
   ]
  },
  {
   "cell_type": "markdown",
   "id": "b81e1749",
   "metadata": {},
   "source": [
    "## Data Introduction and preparation"
   ]
  },
  {
   "cell_type": "markdown",
   "id": "cece7940",
   "metadata": {},
   "source": [
    "The data has 6 features and target, and contains 1728 rows and 7 columns with descriptions as follows:  \n",
    "* buying: Buying Level or Capacity of the customer (Very High:vhigh, High:high, Low:low, Medium:med)\n",
    "* maint: Maintainence Level (Very High:vhigh, High:high, Low:low, Medium:med)\n",
    "* doors: Number of doors in the car (2, 3, 4 and 5 or more)\n",
    "* persons: capacity in terms of persons to carry (2,4, and more)\n",
    "* lug_boot: Luggage Boot Size in the car (small, med, big)\n",
    "* safety: Safety Level of Car (high, med, low)\n",
    "* class: Unacceptable, Acceptable, VeryGood, Good\n",
    "\n",
    "Target has 4 values (unacc, acc, good, v-good)\n"
   ]
  },
  {
   "cell_type": "code",
   "execution_count": 6,
   "id": "89a34d8b",
   "metadata": {},
   "outputs": [],
   "source": [
    "data = pd.read_csv ('car.data')"
   ]
  },
  {
   "cell_type": "code",
   "execution_count": 7,
   "id": "f2626752",
   "metadata": {
    "scrolled": true
   },
   "outputs": [
    {
     "data": {
      "text/html": [
       "<div>\n",
       "<style scoped>\n",
       "    .dataframe tbody tr th:only-of-type {\n",
       "        vertical-align: middle;\n",
       "    }\n",
       "\n",
       "    .dataframe tbody tr th {\n",
       "        vertical-align: top;\n",
       "    }\n",
       "\n",
       "    .dataframe thead th {\n",
       "        text-align: right;\n",
       "    }\n",
       "</style>\n",
       "<table border=\"1\" class=\"dataframe\">\n",
       "  <thead>\n",
       "    <tr style=\"text-align: right;\">\n",
       "      <th></th>\n",
       "      <th>vhigh</th>\n",
       "      <th>vhigh.1</th>\n",
       "      <th>2</th>\n",
       "      <th>2.1</th>\n",
       "      <th>small</th>\n",
       "      <th>low</th>\n",
       "      <th>unacc</th>\n",
       "    </tr>\n",
       "  </thead>\n",
       "  <tbody>\n",
       "    <tr>\n",
       "      <th>0</th>\n",
       "      <td>vhigh</td>\n",
       "      <td>vhigh</td>\n",
       "      <td>2</td>\n",
       "      <td>2</td>\n",
       "      <td>small</td>\n",
       "      <td>med</td>\n",
       "      <td>unacc</td>\n",
       "    </tr>\n",
       "    <tr>\n",
       "      <th>1</th>\n",
       "      <td>vhigh</td>\n",
       "      <td>vhigh</td>\n",
       "      <td>2</td>\n",
       "      <td>2</td>\n",
       "      <td>small</td>\n",
       "      <td>high</td>\n",
       "      <td>unacc</td>\n",
       "    </tr>\n",
       "    <tr>\n",
       "      <th>2</th>\n",
       "      <td>vhigh</td>\n",
       "      <td>vhigh</td>\n",
       "      <td>2</td>\n",
       "      <td>2</td>\n",
       "      <td>med</td>\n",
       "      <td>low</td>\n",
       "      <td>unacc</td>\n",
       "    </tr>\n",
       "    <tr>\n",
       "      <th>3</th>\n",
       "      <td>vhigh</td>\n",
       "      <td>vhigh</td>\n",
       "      <td>2</td>\n",
       "      <td>2</td>\n",
       "      <td>med</td>\n",
       "      <td>med</td>\n",
       "      <td>unacc</td>\n",
       "    </tr>\n",
       "    <tr>\n",
       "      <th>4</th>\n",
       "      <td>vhigh</td>\n",
       "      <td>vhigh</td>\n",
       "      <td>2</td>\n",
       "      <td>2</td>\n",
       "      <td>med</td>\n",
       "      <td>high</td>\n",
       "      <td>unacc</td>\n",
       "    </tr>\n",
       "  </tbody>\n",
       "</table>\n",
       "</div>"
      ],
      "text/plain": [
       "   vhigh vhigh.1  2 2.1  small   low  unacc\n",
       "0  vhigh   vhigh  2   2  small   med  unacc\n",
       "1  vhigh   vhigh  2   2  small  high  unacc\n",
       "2  vhigh   vhigh  2   2    med   low  unacc\n",
       "3  vhigh   vhigh  2   2    med   med  unacc\n",
       "4  vhigh   vhigh  2   2    med  high  unacc"
      ]
     },
     "execution_count": 7,
     "metadata": {},
     "output_type": "execute_result"
    }
   ],
   "source": [
    "data.head ()"
   ]
  },
  {
   "cell_type": "code",
   "execution_count": 8,
   "id": "d2c67ed3",
   "metadata": {},
   "outputs": [],
   "source": [
    "# After read the data, I found there is no column names in the data.\n",
    "# Add column names \n",
    "columns = ['buying', 'maint', 'doors', 'persons', 'lug_boot', 'safety', 'class']\n",
    "data = pd.read_csv ('car.data', names=columns)"
   ]
  },
  {
   "cell_type": "code",
   "execution_count": 9,
   "id": "01976356",
   "metadata": {},
   "outputs": [
    {
     "data": {
      "text/html": [
       "<div>\n",
       "<style scoped>\n",
       "    .dataframe tbody tr th:only-of-type {\n",
       "        vertical-align: middle;\n",
       "    }\n",
       "\n",
       "    .dataframe tbody tr th {\n",
       "        vertical-align: top;\n",
       "    }\n",
       "\n",
       "    .dataframe thead th {\n",
       "        text-align: right;\n",
       "    }\n",
       "</style>\n",
       "<table border=\"1\" class=\"dataframe\">\n",
       "  <thead>\n",
       "    <tr style=\"text-align: right;\">\n",
       "      <th></th>\n",
       "      <th>buying</th>\n",
       "      <th>maint</th>\n",
       "      <th>doors</th>\n",
       "      <th>persons</th>\n",
       "      <th>lug_boot</th>\n",
       "      <th>safety</th>\n",
       "      <th>class</th>\n",
       "    </tr>\n",
       "  </thead>\n",
       "  <tbody>\n",
       "    <tr>\n",
       "      <th>0</th>\n",
       "      <td>vhigh</td>\n",
       "      <td>vhigh</td>\n",
       "      <td>2</td>\n",
       "      <td>2</td>\n",
       "      <td>small</td>\n",
       "      <td>low</td>\n",
       "      <td>unacc</td>\n",
       "    </tr>\n",
       "    <tr>\n",
       "      <th>1</th>\n",
       "      <td>vhigh</td>\n",
       "      <td>vhigh</td>\n",
       "      <td>2</td>\n",
       "      <td>2</td>\n",
       "      <td>small</td>\n",
       "      <td>med</td>\n",
       "      <td>unacc</td>\n",
       "    </tr>\n",
       "    <tr>\n",
       "      <th>2</th>\n",
       "      <td>vhigh</td>\n",
       "      <td>vhigh</td>\n",
       "      <td>2</td>\n",
       "      <td>2</td>\n",
       "      <td>small</td>\n",
       "      <td>high</td>\n",
       "      <td>unacc</td>\n",
       "    </tr>\n",
       "    <tr>\n",
       "      <th>3</th>\n",
       "      <td>vhigh</td>\n",
       "      <td>vhigh</td>\n",
       "      <td>2</td>\n",
       "      <td>2</td>\n",
       "      <td>med</td>\n",
       "      <td>low</td>\n",
       "      <td>unacc</td>\n",
       "    </tr>\n",
       "    <tr>\n",
       "      <th>4</th>\n",
       "      <td>vhigh</td>\n",
       "      <td>vhigh</td>\n",
       "      <td>2</td>\n",
       "      <td>2</td>\n",
       "      <td>med</td>\n",
       "      <td>med</td>\n",
       "      <td>unacc</td>\n",
       "    </tr>\n",
       "  </tbody>\n",
       "</table>\n",
       "</div>"
      ],
      "text/plain": [
       "  buying  maint doors persons lug_boot safety  class\n",
       "0  vhigh  vhigh     2       2    small    low  unacc\n",
       "1  vhigh  vhigh     2       2    small    med  unacc\n",
       "2  vhigh  vhigh     2       2    small   high  unacc\n",
       "3  vhigh  vhigh     2       2      med    low  unacc\n",
       "4  vhigh  vhigh     2       2      med    med  unacc"
      ]
     },
     "execution_count": 9,
     "metadata": {},
     "output_type": "execute_result"
    }
   ],
   "source": [
    "data.head()"
   ]
  },
  {
   "cell_type": "code",
   "execution_count": 10,
   "id": "ce567e7b",
   "metadata": {},
   "outputs": [
    {
     "name": "stdout",
     "output_type": "stream",
     "text": [
      "<class 'pandas.core.frame.DataFrame'>\n",
      "RangeIndex: 1728 entries, 0 to 1727\n",
      "Data columns (total 7 columns):\n",
      " #   Column    Non-Null Count  Dtype \n",
      "---  ------    --------------  ----- \n",
      " 0   buying    1728 non-null   object\n",
      " 1   maint     1728 non-null   object\n",
      " 2   doors     1728 non-null   object\n",
      " 3   persons   1728 non-null   object\n",
      " 4   lug_boot  1728 non-null   object\n",
      " 5   safety    1728 non-null   object\n",
      " 6   class     1728 non-null   object\n",
      "dtypes: object(7)\n",
      "memory usage: 94.6+ KB\n"
     ]
    }
   ],
   "source": [
    "data.info()"
   ]
  },
  {
   "cell_type": "code",
   "execution_count": 11,
   "id": "203126c7",
   "metadata": {},
   "outputs": [
    {
     "data": {
      "text/plain": [
       "buying      0\n",
       "maint       0\n",
       "doors       0\n",
       "persons     0\n",
       "lug_boot    0\n",
       "safety      0\n",
       "class       0\n",
       "dtype: int64"
      ]
     },
     "execution_count": 11,
     "metadata": {},
     "output_type": "execute_result"
    }
   ],
   "source": [
    "# Check if has null value \n",
    "data.isna().sum()"
   ]
  },
  {
   "cell_type": "code",
   "execution_count": 12,
   "id": "f2b4b9d9",
   "metadata": {},
   "outputs": [
    {
     "name": "stdout",
     "output_type": "stream",
     "text": [
      "0\n"
     ]
    }
   ],
   "source": [
    "# Cheking for duplicated rows\n",
    "duplicates = data[data.duplicated()]\n",
    "print(len(duplicates))"
   ]
  },
  {
   "cell_type": "code",
   "execution_count": 13,
   "id": "4501cab2",
   "metadata": {
    "scrolled": true
   },
   "outputs": [
    {
     "data": {
      "text/html": [
       "<div>\n",
       "<style scoped>\n",
       "    .dataframe tbody tr th:only-of-type {\n",
       "        vertical-align: middle;\n",
       "    }\n",
       "\n",
       "    .dataframe tbody tr th {\n",
       "        vertical-align: top;\n",
       "    }\n",
       "\n",
       "    .dataframe thead th {\n",
       "        text-align: right;\n",
       "    }\n",
       "</style>\n",
       "<table border=\"1\" class=\"dataframe\">\n",
       "  <thead>\n",
       "    <tr style=\"text-align: right;\">\n",
       "      <th></th>\n",
       "      <th>buying</th>\n",
       "      <th>maint</th>\n",
       "      <th>doors</th>\n",
       "      <th>persons</th>\n",
       "      <th>lug_boot</th>\n",
       "      <th>safety</th>\n",
       "      <th>class</th>\n",
       "    </tr>\n",
       "  </thead>\n",
       "  <tbody>\n",
       "    <tr>\n",
       "      <th>count</th>\n",
       "      <td>1728</td>\n",
       "      <td>1728</td>\n",
       "      <td>1728</td>\n",
       "      <td>1728</td>\n",
       "      <td>1728</td>\n",
       "      <td>1728</td>\n",
       "      <td>1728</td>\n",
       "    </tr>\n",
       "    <tr>\n",
       "      <th>unique</th>\n",
       "      <td>4</td>\n",
       "      <td>4</td>\n",
       "      <td>4</td>\n",
       "      <td>3</td>\n",
       "      <td>3</td>\n",
       "      <td>3</td>\n",
       "      <td>4</td>\n",
       "    </tr>\n",
       "    <tr>\n",
       "      <th>top</th>\n",
       "      <td>med</td>\n",
       "      <td>med</td>\n",
       "      <td>4</td>\n",
       "      <td>more</td>\n",
       "      <td>med</td>\n",
       "      <td>med</td>\n",
       "      <td>unacc</td>\n",
       "    </tr>\n",
       "    <tr>\n",
       "      <th>freq</th>\n",
       "      <td>432</td>\n",
       "      <td>432</td>\n",
       "      <td>432</td>\n",
       "      <td>576</td>\n",
       "      <td>576</td>\n",
       "      <td>576</td>\n",
       "      <td>1210</td>\n",
       "    </tr>\n",
       "  </tbody>\n",
       "</table>\n",
       "</div>"
      ],
      "text/plain": [
       "       buying maint doors persons lug_boot safety  class\n",
       "count    1728  1728  1728    1728     1728   1728   1728\n",
       "unique      4     4     4       3        3      3      4\n",
       "top       med   med     4    more      med    med  unacc\n",
       "freq      432   432   432     576      576    576   1210"
      ]
     },
     "execution_count": 13,
     "metadata": {},
     "output_type": "execute_result"
    }
   ],
   "source": [
    "data.describe()"
   ]
  },
  {
   "cell_type": "markdown",
   "id": "35a2a45b",
   "metadata": {},
   "source": [
    "### Features vs Target Analysis"
   ]
  },
  {
   "cell_type": "code",
   "execution_count": 14,
   "id": "f06163c7",
   "metadata": {},
   "outputs": [
    {
     "data": {
      "text/plain": [
       "<AxesSubplot:title={'center':'buying price vs class'}, xlabel='buying', ylabel='count'>"
      ]
     },
     "execution_count": 14,
     "metadata": {},
     "output_type": "execute_result"
    },
    {
     "data": {
      "image/png": "[encoded data removed]",
      "text/plain": [
       "<Figure size 576x360 with 1 Axes>"
      ]
     },
     "metadata": {},
     "output_type": "display_data"
    }
   ],
   "source": [
    "# First I checked the relationship between buying price and class\n",
    "plt.figure (figsize = (8,5))\n",
    "plt.title (\"buying price vs class\")\n",
    "sns.countplot(x ='buying', hue = 'class', data = data)"
   ]
  },
  {
   "cell_type": "markdown",
   "id": "a876cf0a",
   "metadata": {},
   "source": [
    "From the buying price vs class plot, it shows there almost no very good or very good class in the high and very high buying price range. Most good and very good condition cars with med or low buying price. "
   ]
  },
  {
   "cell_type": "code",
   "execution_count": 15,
   "id": "cca36c8e",
   "metadata": {},
   "outputs": [
    {
     "data": {
      "image/png": "[encoded data removed]",
      "text/plain": [
       "<Figure size 576x360 with 1 Axes>"
      ]
     },
     "metadata": {},
     "output_type": "display_data"
    },
    {
     "data": {
      "image/png": "[encoded data removed]",
      "text/plain": [
       "<Figure size 576x360 with 1 Axes>"
      ]
     },
     "metadata": {},
     "output_type": "display_data"
    },
    {
     "data": {
      "image/png": "[encoded data removed]",
      "text/plain": [
       "<Figure size 576x360 with 1 Axes>"
      ]
     },
     "metadata": {},
     "output_type": "display_data"
    },
    {
     "data": {
      "image/png": "[encoded data removed]",
      "text/plain": [
       "<Figure size 576x360 with 1 Axes>"
      ]
     },
     "metadata": {},
     "output_type": "display_data"
    },
    {
     "data": {
      "image/png": "[encoded data removed]",
      "text/plain": [
       "<Figure size 576x360 with 1 Axes>"
      ]
     },
     "metadata": {},
     "output_type": "display_data"
    }
   ],
   "source": [
    "# Similarly, I analyzed the relationship between  other features  and targets. \n",
    "for i in data.columns [1:-1]:\n",
    "    plt.figure (figsize = (8,5))\n",
    "    plt.title (\"Feature %s vs class\"%i)\n",
    "    sns.countplot(x =data[i], hue = 'class', data = data)\n"
   ]
  },
  {
   "cell_type": "markdown",
   "id": "007718bd",
   "metadata": {},
   "source": [
    "### Label Encoding"
   ]
  },
  {
   "cell_type": "markdown",
   "id": "d0cb401c",
   "metadata": {},
   "source": [
    "For machine learning, categories with strings need to be converted to integers."
   ]
  },
  {
   "cell_type": "code",
   "execution_count": 16,
   "id": "68cc56dc",
   "metadata": {},
   "outputs": [],
   "source": [
    "data['class'].replace (('unacc','acc','good','vgood'),(0,1,2,3), inplace=True)"
   ]
  },
  {
   "cell_type": "code",
   "execution_count": 17,
   "id": "c57fd164",
   "metadata": {},
   "outputs": [
    {
     "data": {
      "text/html": [
       "<div>\n",
       "<style scoped>\n",
       "    .dataframe tbody tr th:only-of-type {\n",
       "        vertical-align: middle;\n",
       "    }\n",
       "\n",
       "    .dataframe tbody tr th {\n",
       "        vertical-align: top;\n",
       "    }\n",
       "\n",
       "    .dataframe thead th {\n",
       "        text-align: right;\n",
       "    }\n",
       "</style>\n",
       "<table border=\"1\" class=\"dataframe\">\n",
       "  <thead>\n",
       "    <tr style=\"text-align: right;\">\n",
       "      <th></th>\n",
       "      <th>buying</th>\n",
       "      <th>maint</th>\n",
       "      <th>doors</th>\n",
       "      <th>persons</th>\n",
       "      <th>lug_boot</th>\n",
       "      <th>safety</th>\n",
       "      <th>class</th>\n",
       "    </tr>\n",
       "  </thead>\n",
       "  <tbody>\n",
       "    <tr>\n",
       "      <th>0</th>\n",
       "      <td>vhigh</td>\n",
       "      <td>vhigh</td>\n",
       "      <td>2</td>\n",
       "      <td>2</td>\n",
       "      <td>small</td>\n",
       "      <td>low</td>\n",
       "      <td>0</td>\n",
       "    </tr>\n",
       "    <tr>\n",
       "      <th>1</th>\n",
       "      <td>vhigh</td>\n",
       "      <td>vhigh</td>\n",
       "      <td>2</td>\n",
       "      <td>2</td>\n",
       "      <td>small</td>\n",
       "      <td>med</td>\n",
       "      <td>0</td>\n",
       "    </tr>\n",
       "    <tr>\n",
       "      <th>2</th>\n",
       "      <td>vhigh</td>\n",
       "      <td>vhigh</td>\n",
       "      <td>2</td>\n",
       "      <td>2</td>\n",
       "      <td>small</td>\n",
       "      <td>high</td>\n",
       "      <td>0</td>\n",
       "    </tr>\n",
       "    <tr>\n",
       "      <th>3</th>\n",
       "      <td>vhigh</td>\n",
       "      <td>vhigh</td>\n",
       "      <td>2</td>\n",
       "      <td>2</td>\n",
       "      <td>med</td>\n",
       "      <td>low</td>\n",
       "      <td>0</td>\n",
       "    </tr>\n",
       "    <tr>\n",
       "      <th>4</th>\n",
       "      <td>vhigh</td>\n",
       "      <td>vhigh</td>\n",
       "      <td>2</td>\n",
       "      <td>2</td>\n",
       "      <td>med</td>\n",
       "      <td>med</td>\n",
       "      <td>0</td>\n",
       "    </tr>\n",
       "  </tbody>\n",
       "</table>\n",
       "</div>"
      ],
      "text/plain": [
       "  buying  maint doors persons lug_boot safety  class\n",
       "0  vhigh  vhigh     2       2    small    low      0\n",
       "1  vhigh  vhigh     2       2    small    med      0\n",
       "2  vhigh  vhigh     2       2    small   high      0\n",
       "3  vhigh  vhigh     2       2      med    low      0\n",
       "4  vhigh  vhigh     2       2      med    med      0"
      ]
     },
     "execution_count": 17,
     "metadata": {},
     "output_type": "execute_result"
    }
   ],
   "source": [
    "data.head()"
   ]
  },
  {
   "cell_type": "code",
   "execution_count": 18,
   "id": "3269419c",
   "metadata": {},
   "outputs": [],
   "source": [
    "# Similarly,replace from string to integer for other features\n",
    "data['buying'].replace (('low','med','high','vhigh'),(0,1,2,3), inplace=True)\n",
    "data['maint'].replace (('low','med','high','vhigh'),(0,1,2,3), inplace=True)\n",
    "data['lug_boot'].replace (('small','med','big'),(0,1,2), inplace=True)\n",
    "data['safety'].replace (('low','med','high'),(0,1,2), inplace=True)\n",
    "data['doors'].replace ('5more',5, inplace=True)\n",
    "data['persons'].replace ('more',5, inplace=True)"
   ]
  },
  {
   "cell_type": "code",
   "execution_count": 19,
   "id": "78d9146f",
   "metadata": {},
   "outputs": [],
   "source": [
    "# I found datetype of doors and persons is object and need to be changed to int64\n",
    "data['doors']= data['doors'].astype(str).astype(int) \n",
    "data['persons']= data['persons'].astype(str).astype(int) "
   ]
  },
  {
   "cell_type": "code",
   "execution_count": 20,
   "id": "3fd68641",
   "metadata": {},
   "outputs": [
    {
     "name": "stdout",
     "output_type": "stream",
     "text": [
      "<class 'pandas.core.frame.DataFrame'>\n",
      "RangeIndex: 1728 entries, 0 to 1727\n",
      "Data columns (total 7 columns):\n",
      " #   Column    Non-Null Count  Dtype\n",
      "---  ------    --------------  -----\n",
      " 0   buying    1728 non-null   int64\n",
      " 1   maint     1728 non-null   int64\n",
      " 2   doors     1728 non-null   int32\n",
      " 3   persons   1728 non-null   int32\n",
      " 4   lug_boot  1728 non-null   int64\n",
      " 5   safety    1728 non-null   int64\n",
      " 6   class     1728 non-null   int64\n",
      "dtypes: int32(2), int64(5)\n",
      "memory usage: 81.1 KB\n"
     ]
    }
   ],
   "source": [
    "data.info()"
   ]
  },
  {
   "cell_type": "code",
   "execution_count": 21,
   "id": "289af4bc",
   "metadata": {},
   "outputs": [
    {
     "data": {
      "text/html": [
       "<div>\n",
       "<style scoped>\n",
       "    .dataframe tbody tr th:only-of-type {\n",
       "        vertical-align: middle;\n",
       "    }\n",
       "\n",
       "    .dataframe tbody tr th {\n",
       "        vertical-align: top;\n",
       "    }\n",
       "\n",
       "    .dataframe thead th {\n",
       "        text-align: right;\n",
       "    }\n",
       "</style>\n",
       "<table border=\"1\" class=\"dataframe\">\n",
       "  <thead>\n",
       "    <tr style=\"text-align: right;\">\n",
       "      <th></th>\n",
       "      <th>buying</th>\n",
       "      <th>maint</th>\n",
       "      <th>doors</th>\n",
       "      <th>persons</th>\n",
       "      <th>lug_boot</th>\n",
       "      <th>safety</th>\n",
       "      <th>class</th>\n",
       "    </tr>\n",
       "  </thead>\n",
       "  <tbody>\n",
       "    <tr>\n",
       "      <th>0</th>\n",
       "      <td>3</td>\n",
       "      <td>3</td>\n",
       "      <td>2</td>\n",
       "      <td>2</td>\n",
       "      <td>0</td>\n",
       "      <td>0</td>\n",
       "      <td>0</td>\n",
       "    </tr>\n",
       "    <tr>\n",
       "      <th>1</th>\n",
       "      <td>3</td>\n",
       "      <td>3</td>\n",
       "      <td>2</td>\n",
       "      <td>2</td>\n",
       "      <td>0</td>\n",
       "      <td>1</td>\n",
       "      <td>0</td>\n",
       "    </tr>\n",
       "    <tr>\n",
       "      <th>2</th>\n",
       "      <td>3</td>\n",
       "      <td>3</td>\n",
       "      <td>2</td>\n",
       "      <td>2</td>\n",
       "      <td>0</td>\n",
       "      <td>2</td>\n",
       "      <td>0</td>\n",
       "    </tr>\n",
       "    <tr>\n",
       "      <th>3</th>\n",
       "      <td>3</td>\n",
       "      <td>3</td>\n",
       "      <td>2</td>\n",
       "      <td>2</td>\n",
       "      <td>1</td>\n",
       "      <td>0</td>\n",
       "      <td>0</td>\n",
       "    </tr>\n",
       "    <tr>\n",
       "      <th>4</th>\n",
       "      <td>3</td>\n",
       "      <td>3</td>\n",
       "      <td>2</td>\n",
       "      <td>2</td>\n",
       "      <td>1</td>\n",
       "      <td>1</td>\n",
       "      <td>0</td>\n",
       "    </tr>\n",
       "    <tr>\n",
       "      <th>...</th>\n",
       "      <td>...</td>\n",
       "      <td>...</td>\n",
       "      <td>...</td>\n",
       "      <td>...</td>\n",
       "      <td>...</td>\n",
       "      <td>...</td>\n",
       "      <td>...</td>\n",
       "    </tr>\n",
       "    <tr>\n",
       "      <th>1723</th>\n",
       "      <td>0</td>\n",
       "      <td>0</td>\n",
       "      <td>5</td>\n",
       "      <td>5</td>\n",
       "      <td>1</td>\n",
       "      <td>1</td>\n",
       "      <td>2</td>\n",
       "    </tr>\n",
       "    <tr>\n",
       "      <th>1724</th>\n",
       "      <td>0</td>\n",
       "      <td>0</td>\n",
       "      <td>5</td>\n",
       "      <td>5</td>\n",
       "      <td>1</td>\n",
       "      <td>2</td>\n",
       "      <td>3</td>\n",
       "    </tr>\n",
       "    <tr>\n",
       "      <th>1725</th>\n",
       "      <td>0</td>\n",
       "      <td>0</td>\n",
       "      <td>5</td>\n",
       "      <td>5</td>\n",
       "      <td>2</td>\n",
       "      <td>0</td>\n",
       "      <td>0</td>\n",
       "    </tr>\n",
       "    <tr>\n",
       "      <th>1726</th>\n",
       "      <td>0</td>\n",
       "      <td>0</td>\n",
       "      <td>5</td>\n",
       "      <td>5</td>\n",
       "      <td>2</td>\n",
       "      <td>1</td>\n",
       "      <td>2</td>\n",
       "    </tr>\n",
       "    <tr>\n",
       "      <th>1727</th>\n",
       "      <td>0</td>\n",
       "      <td>0</td>\n",
       "      <td>5</td>\n",
       "      <td>5</td>\n",
       "      <td>2</td>\n",
       "      <td>2</td>\n",
       "      <td>3</td>\n",
       "    </tr>\n",
       "  </tbody>\n",
       "</table>\n",
       "<p>1728 rows × 7 columns</p>\n",
       "</div>"
      ],
      "text/plain": [
       "      buying  maint  doors  persons  lug_boot  safety  class\n",
       "0          3      3      2        2         0       0      0\n",
       "1          3      3      2        2         0       1      0\n",
       "2          3      3      2        2         0       2      0\n",
       "3          3      3      2        2         1       0      0\n",
       "4          3      3      2        2         1       1      0\n",
       "...      ...    ...    ...      ...       ...     ...    ...\n",
       "1723       0      0      5        5         1       1      2\n",
       "1724       0      0      5        5         1       2      3\n",
       "1725       0      0      5        5         2       0      0\n",
       "1726       0      0      5        5         2       1      2\n",
       "1727       0      0      5        5         2       2      3\n",
       "\n",
       "[1728 rows x 7 columns]"
      ]
     },
     "execution_count": 21,
     "metadata": {},
     "output_type": "execute_result"
    }
   ],
   "source": [
    "data"
   ]
  },
  {
   "cell_type": "code",
   "execution_count": 22,
   "id": "eeb574fa",
   "metadata": {},
   "outputs": [
    {
     "data": {
      "text/html": [
       "<div>\n",
       "<style scoped>\n",
       "    .dataframe tbody tr th:only-of-type {\n",
       "        vertical-align: middle;\n",
       "    }\n",
       "\n",
       "    .dataframe tbody tr th {\n",
       "        vertical-align: top;\n",
       "    }\n",
       "\n",
       "    .dataframe thead th {\n",
       "        text-align: right;\n",
       "    }\n",
       "</style>\n",
       "<table border=\"1\" class=\"dataframe\">\n",
       "  <thead>\n",
       "    <tr style=\"text-align: right;\">\n",
       "      <th></th>\n",
       "      <th>buying</th>\n",
       "      <th>maint</th>\n",
       "      <th>doors</th>\n",
       "      <th>persons</th>\n",
       "      <th>lug_boot</th>\n",
       "      <th>safety</th>\n",
       "      <th>class</th>\n",
       "    </tr>\n",
       "  </thead>\n",
       "  <tbody>\n",
       "    <tr>\n",
       "      <th>buying</th>\n",
       "      <td>1.000000e+00</td>\n",
       "      <td>-1.356939e-15</td>\n",
       "      <td>4.191709e-15</td>\n",
       "      <td>7.886258e-16</td>\n",
       "      <td>-1.045866e-16</td>\n",
       "      <td>-4.082114e-16</td>\n",
       "      <td>-0.282750</td>\n",
       "    </tr>\n",
       "    <tr>\n",
       "      <th>maint</th>\n",
       "      <td>-1.356939e-15</td>\n",
       "      <td>1.000000e+00</td>\n",
       "      <td>7.812681e-16</td>\n",
       "      <td>1.822741e-16</td>\n",
       "      <td>8.544286e-17</td>\n",
       "      <td>-7.826398e-17</td>\n",
       "      <td>-0.232422</td>\n",
       "    </tr>\n",
       "    <tr>\n",
       "      <th>doors</th>\n",
       "      <td>4.191709e-15</td>\n",
       "      <td>7.812681e-16</td>\n",
       "      <td>1.000000e+00</td>\n",
       "      <td>-9.989138e-17</td>\n",
       "      <td>-1.632846e-17</td>\n",
       "      <td>2.801175e-17</td>\n",
       "      <td>0.066057</td>\n",
       "    </tr>\n",
       "    <tr>\n",
       "      <th>persons</th>\n",
       "      <td>7.886258e-16</td>\n",
       "      <td>1.822741e-16</td>\n",
       "      <td>-9.989138e-17</td>\n",
       "      <td>1.000000e+00</td>\n",
       "      <td>-1.438481e-17</td>\n",
       "      <td>7.570954e-18</td>\n",
       "      <td>0.373459</td>\n",
       "    </tr>\n",
       "    <tr>\n",
       "      <th>lug_boot</th>\n",
       "      <td>-1.045866e-16</td>\n",
       "      <td>8.544286e-17</td>\n",
       "      <td>-1.632846e-17</td>\n",
       "      <td>-1.438481e-17</td>\n",
       "      <td>1.000000e+00</td>\n",
       "      <td>1.927471e-18</td>\n",
       "      <td>0.157932</td>\n",
       "    </tr>\n",
       "    <tr>\n",
       "      <th>safety</th>\n",
       "      <td>-4.082114e-16</td>\n",
       "      <td>-7.826398e-17</td>\n",
       "      <td>2.801175e-17</td>\n",
       "      <td>7.570954e-18</td>\n",
       "      <td>1.927471e-18</td>\n",
       "      <td>1.000000e+00</td>\n",
       "      <td>0.439337</td>\n",
       "    </tr>\n",
       "    <tr>\n",
       "      <th>class</th>\n",
       "      <td>-2.827504e-01</td>\n",
       "      <td>-2.324215e-01</td>\n",
       "      <td>6.605665e-02</td>\n",
       "      <td>3.734592e-01</td>\n",
       "      <td>1.579317e-01</td>\n",
       "      <td>4.393373e-01</td>\n",
       "      <td>1.000000</td>\n",
       "    </tr>\n",
       "  </tbody>\n",
       "</table>\n",
       "</div>"
      ],
      "text/plain": [
       "                buying         maint         doors       persons  \\\n",
       "buying    1.000000e+00 -1.356939e-15  4.191709e-15  7.886258e-16   \n",
       "maint    -1.356939e-15  1.000000e+00  7.812681e-16  1.822741e-16   \n",
       "doors     4.191709e-15  7.812681e-16  1.000000e+00 -9.989138e-17   \n",
       "persons   7.886258e-16  1.822741e-16 -9.989138e-17  1.000000e+00   \n",
       "lug_boot -1.045866e-16  8.544286e-17 -1.632846e-17 -1.438481e-17   \n",
       "safety   -4.082114e-16 -7.826398e-17  2.801175e-17  7.570954e-18   \n",
       "class    -2.827504e-01 -2.324215e-01  6.605665e-02  3.734592e-01   \n",
       "\n",
       "              lug_boot        safety     class  \n",
       "buying   -1.045866e-16 -4.082114e-16 -0.282750  \n",
       "maint     8.544286e-17 -7.826398e-17 -0.232422  \n",
       "doors    -1.632846e-17  2.801175e-17  0.066057  \n",
       "persons  -1.438481e-17  7.570954e-18  0.373459  \n",
       "lug_boot  1.000000e+00  1.927471e-18  0.157932  \n",
       "safety    1.927471e-18  1.000000e+00  0.439337  \n",
       "class     1.579317e-01  4.393373e-01  1.000000  "
      ]
     },
     "execution_count": 22,
     "metadata": {},
     "output_type": "execute_result"
    }
   ],
   "source": [
    "data.corr()"
   ]
  },
  {
   "cell_type": "code",
   "execution_count": 23,
   "id": "32035f90",
   "metadata": {},
   "outputs": [
    {
     "data": {
      "text/plain": [
       "<AxesSubplot:title={'center':'heatmap'}>"
      ]
     },
     "execution_count": 23,
     "metadata": {},
     "output_type": "execute_result"
    },
    {
     "data": {
      "image/png": "[encoded data removed]",
      "text/plain": [
       "<Figure size 1152x864 with 2 Axes>"
      ]
     },
     "metadata": {},
     "output_type": "display_data"
    }
   ],
   "source": [
    "plt.figure (figsize = (16,12))\n",
    "plt.title (\"heatmap\")\n",
    "sns.heatmap(data.corr(),annot=True,cmap=\"YlGnBu\",fmt='.2f')"
   ]
  },
  {
   "cell_type": "markdown",
   "id": "0310e57f",
   "metadata": {},
   "source": [
    "Class is negatively correlated with buying price and maint fee; and postively correlated with persons and safety."
   ]
  },
  {
   "cell_type": "markdown",
   "id": "f2e758d7",
   "metadata": {},
   "source": [
    "### Training Data"
   ]
  },
  {
   "cell_type": "code",
   "execution_count": 77,
   "id": "4b18c80a",
   "metadata": {},
   "outputs": [],
   "source": [
    "X= data.iloc[:,:6]\n",
    "y= data.iloc[:,6:]"
   ]
  },
  {
   "cell_type": "code",
   "execution_count": 25,
   "id": "4be74eb2",
   "metadata": {},
   "outputs": [
    {
     "data": {
      "text/html": [
       "<div>\n",
       "<style scoped>\n",
       "    .dataframe tbody tr th:only-of-type {\n",
       "        vertical-align: middle;\n",
       "    }\n",
       "\n",
       "    .dataframe tbody tr th {\n",
       "        vertical-align: top;\n",
       "    }\n",
       "\n",
       "    .dataframe thead th {\n",
       "        text-align: right;\n",
       "    }\n",
       "</style>\n",
       "<table border=\"1\" class=\"dataframe\">\n",
       "  <thead>\n",
       "    <tr style=\"text-align: right;\">\n",
       "      <th></th>\n",
       "      <th>buying</th>\n",
       "      <th>maint</th>\n",
       "      <th>doors</th>\n",
       "      <th>persons</th>\n",
       "      <th>lug_boot</th>\n",
       "      <th>safety</th>\n",
       "    </tr>\n",
       "  </thead>\n",
       "  <tbody>\n",
       "    <tr>\n",
       "      <th>0</th>\n",
       "      <td>3</td>\n",
       "      <td>3</td>\n",
       "      <td>2</td>\n",
       "      <td>2</td>\n",
       "      <td>0</td>\n",
       "      <td>0</td>\n",
       "    </tr>\n",
       "    <tr>\n",
       "      <th>1</th>\n",
       "      <td>3</td>\n",
       "      <td>3</td>\n",
       "      <td>2</td>\n",
       "      <td>2</td>\n",
       "      <td>0</td>\n",
       "      <td>1</td>\n",
       "    </tr>\n",
       "    <tr>\n",
       "      <th>2</th>\n",
       "      <td>3</td>\n",
       "      <td>3</td>\n",
       "      <td>2</td>\n",
       "      <td>2</td>\n",
       "      <td>0</td>\n",
       "      <td>2</td>\n",
       "    </tr>\n",
       "    <tr>\n",
       "      <th>3</th>\n",
       "      <td>3</td>\n",
       "      <td>3</td>\n",
       "      <td>2</td>\n",
       "      <td>2</td>\n",
       "      <td>1</td>\n",
       "      <td>0</td>\n",
       "    </tr>\n",
       "    <tr>\n",
       "      <th>4</th>\n",
       "      <td>3</td>\n",
       "      <td>3</td>\n",
       "      <td>2</td>\n",
       "      <td>2</td>\n",
       "      <td>1</td>\n",
       "      <td>1</td>\n",
       "    </tr>\n",
       "  </tbody>\n",
       "</table>\n",
       "</div>"
      ],
      "text/plain": [
       "   buying  maint  doors  persons  lug_boot  safety\n",
       "0       3      3      2        2         0       0\n",
       "1       3      3      2        2         0       1\n",
       "2       3      3      2        2         0       2\n",
       "3       3      3      2        2         1       0\n",
       "4       3      3      2        2         1       1"
      ]
     },
     "execution_count": 25,
     "metadata": {},
     "output_type": "execute_result"
    }
   ],
   "source": [
    "X.head()"
   ]
  },
  {
   "cell_type": "code",
   "execution_count": 26,
   "id": "8f479739",
   "metadata": {},
   "outputs": [
    {
     "data": {
      "text/plain": [
       "((1728, 6), (1728, 1))"
      ]
     },
     "execution_count": 26,
     "metadata": {},
     "output_type": "execute_result"
    }
   ],
   "source": [
    "X.shape, y.shape"
   ]
  },
  {
   "cell_type": "code",
   "execution_count": 27,
   "id": "4e60bc3b",
   "metadata": {},
   "outputs": [],
   "source": [
    "X_train, X_test, y_train, y_test = train_test_split(X,y, test_size=0.3, random_state =1)"
   ]
  },
  {
   "cell_type": "code",
   "execution_count": 28,
   "id": "347b009e",
   "metadata": {},
   "outputs": [
    {
     "data": {
      "text/plain": [
       "(519, 1)"
      ]
     },
     "execution_count": 28,
     "metadata": {},
     "output_type": "execute_result"
    }
   ],
   "source": [
    "y_test.shape"
   ]
  },
  {
   "cell_type": "markdown",
   "id": "08609b3f",
   "metadata": {},
   "source": [
    "## Use Scikit-learn KNeighbors model"
   ]
  },
  {
   "cell_type": "code",
   "execution_count": 29,
   "id": "d320f280",
   "metadata": {},
   "outputs": [],
   "source": [
    "# Create a KNN model\n",
    "knn = KNeighborsClassifier(n_neighbors =5)"
   ]
  },
  {
   "cell_type": "code",
   "execution_count": 30,
   "id": "450eb6ec",
   "metadata": {},
   "outputs": [
    {
     "name": "stderr",
     "output_type": "stream",
     "text": [
      "C:\\Users\\wangj\\anaconda3\\lib\\site-packages\\sklearn\\neighbors\\_classification.py:179: DataConversionWarning: A column-vector y was passed when a 1d array was expected. Please change the shape of y to (n_samples,), for example using ravel().\n",
      "  return self._fit(X, y)\n"
     ]
    },
    {
     "data": {
      "text/plain": [
       "KNeighborsClassifier()"
      ]
     },
     "execution_count": 30,
     "metadata": {},
     "output_type": "execute_result"
    }
   ],
   "source": [
    "# Feeding the model\n",
    "knn.fit (X_train, y_train)"
   ]
  },
  {
   "cell_type": "code",
   "execution_count": 31,
   "id": "22264d42",
   "metadata": {},
   "outputs": [],
   "source": [
    "# Predict the value for X_test\n",
    "y_pred = knn.predict (X_test)"
   ]
  },
  {
   "cell_type": "code",
   "execution_count": 32,
   "id": "bee2e2d2",
   "metadata": {},
   "outputs": [
    {
     "name": "stdout",
     "output_type": "stream",
     "text": [
      "Training Accuracy: 0.9793217535153019\n",
      "Testing  Accuracy: 0.9518304431599229\n"
     ]
    }
   ],
   "source": [
    "# Print Accuracy\n",
    "print (\"Training Accuracy:\", knn.score(X_train, y_train))\n",
    "print (\"Testing  Accuracy:\", knn.score(X_test, y_test))"
   ]
  },
  {
   "cell_type": "markdown",
   "id": "6f29d116",
   "metadata": {},
   "source": [
    "### Predict Evaluation "
   ]
  },
  {
   "cell_type": "code",
   "execution_count": 33,
   "id": "6209be13",
   "metadata": {},
   "outputs": [
    {
     "name": "stdout",
     "output_type": "stream",
     "text": [
      "[[362   6   0   0]\n",
      " [  8 103   0   0]\n",
      " [  1   5  16   0]\n",
      " [  0   3   2  13]]\n"
     ]
    }
   ],
   "source": [
    "confusion_matrix = confusion_matrix (y_test, y_pred)\n",
    "print (confusion_matrix)"
   ]
  },
  {
   "cell_type": "code",
   "execution_count": 34,
   "id": "1669faac",
   "metadata": {},
   "outputs": [
    {
     "name": "stdout",
     "output_type": "stream",
     "text": [
      "              precision    recall  f1-score   support\n",
      "\n",
      "           0       0.98      0.98      0.98       368\n",
      "           1       0.88      0.93      0.90       111\n",
      "           2       0.89      0.73      0.80        22\n",
      "           3       1.00      0.72      0.84        18\n",
      "\n",
      "    accuracy                           0.95       519\n",
      "   macro avg       0.94      0.84      0.88       519\n",
      "weighted avg       0.95      0.95      0.95       519\n",
      "\n"
     ]
    }
   ],
   "source": [
    "print (classification_report (y_test, y_pred))"
   ]
  },
  {
   "cell_type": "markdown",
   "id": "8f0e8530",
   "metadata": {},
   "source": [
    "### Use different K value to predict, and then to choose the best K value. "
   ]
  },
  {
   "cell_type": "code",
   "execution_count": 35,
   "id": "d726ff57",
   "metadata": {},
   "outputs": [
    {
     "name": "stderr",
     "output_type": "stream",
     "text": [
      "C:\\Users\\wangj\\anaconda3\\lib\\site-packages\\sklearn\\neighbors\\_classification.py:179: DataConversionWarning: A column-vector y was passed when a 1d array was expected. Please change the shape of y to (n_samples,), for example using ravel().\n",
      "  return self._fit(X, y)\n",
      "C:\\Users\\wangj\\anaconda3\\lib\\site-packages\\sklearn\\neighbors\\_classification.py:179: DataConversionWarning: A column-vector y was passed when a 1d array was expected. Please change the shape of y to (n_samples,), for example using ravel().\n",
      "  return self._fit(X, y)\n",
      "C:\\Users\\wangj\\anaconda3\\lib\\site-packages\\sklearn\\neighbors\\_classification.py:179: DataConversionWarning: A column-vector y was passed when a 1d array was expected. Please change the shape of y to (n_samples,), for example using ravel().\n",
      "  return self._fit(X, y)\n",
      "C:\\Users\\wangj\\anaconda3\\lib\\site-packages\\sklearn\\neighbors\\_classification.py:179: DataConversionWarning: A column-vector y was passed when a 1d array was expected. Please change the shape of y to (n_samples,), for example using ravel().\n",
      "  return self._fit(X, y)\n",
      "C:\\Users\\wangj\\anaconda3\\lib\\site-packages\\sklearn\\neighbors\\_classification.py:179: DataConversionWarning: A column-vector y was passed when a 1d array was expected. Please change the shape of y to (n_samples,), for example using ravel().\n",
      "  return self._fit(X, y)\n",
      "C:\\Users\\wangj\\anaconda3\\lib\\site-packages\\sklearn\\neighbors\\_classification.py:179: DataConversionWarning: A column-vector y was passed when a 1d array was expected. Please change the shape of y to (n_samples,), for example using ravel().\n",
      "  return self._fit(X, y)\n",
      "C:\\Users\\wangj\\anaconda3\\lib\\site-packages\\sklearn\\neighbors\\_classification.py:179: DataConversionWarning: A column-vector y was passed when a 1d array was expected. Please change the shape of y to (n_samples,), for example using ravel().\n",
      "  return self._fit(X, y)\n",
      "C:\\Users\\wangj\\anaconda3\\lib\\site-packages\\sklearn\\neighbors\\_classification.py:179: DataConversionWarning: A column-vector y was passed when a 1d array was expected. Please change the shape of y to (n_samples,), for example using ravel().\n",
      "  return self._fit(X, y)\n",
      "C:\\Users\\wangj\\anaconda3\\lib\\site-packages\\sklearn\\neighbors\\_classification.py:179: DataConversionWarning: A column-vector y was passed when a 1d array was expected. Please change the shape of y to (n_samples,), for example using ravel().\n",
      "  return self._fit(X, y)\n",
      "C:\\Users\\wangj\\anaconda3\\lib\\site-packages\\sklearn\\neighbors\\_classification.py:179: DataConversionWarning: A column-vector y was passed when a 1d array was expected. Please change the shape of y to (n_samples,), for example using ravel().\n",
      "  return self._fit(X, y)\n",
      "C:\\Users\\wangj\\anaconda3\\lib\\site-packages\\sklearn\\neighbors\\_classification.py:179: DataConversionWarning: A column-vector y was passed when a 1d array was expected. Please change the shape of y to (n_samples,), for example using ravel().\n",
      "  return self._fit(X, y)\n",
      "C:\\Users\\wangj\\anaconda3\\lib\\site-packages\\sklearn\\neighbors\\_classification.py:179: DataConversionWarning: A column-vector y was passed when a 1d array was expected. Please change the shape of y to (n_samples,), for example using ravel().\n",
      "  return self._fit(X, y)\n"
     ]
    }
   ],
   "source": [
    "# put all accurancy values into a list \n",
    "score_k =[]\n",
    "for k in range (3, 15):\n",
    "    knn_k =KNeighborsClassifier (n_jobs=-1, n_neighbors =k)\n",
    "    knn_k.fit (X_train, y_train)\n",
    "    y_pred_k = knn_k.predict (X_test)\n",
    "    score = knn_k.score(X_test, y_test)\n",
    "    score_k.append (score.mean ())"
   ]
  },
  {
   "cell_type": "code",
   "execution_count": 36,
   "id": "c21ee5bc",
   "metadata": {},
   "outputs": [
    {
     "data": {
      "image/png": "[encoded data removed]",
      "text/plain": [
       "<Figure size 720x432 with 1 Axes>"
      ]
     },
     "metadata": {},
     "output_type": "display_data"
    }
   ],
   "source": [
    "#Ploting predict accuracy with different K value \n",
    "plt.figure(figsize=(10,6))\n",
    "plt.plot(range(3,15), score_k,marker='o',color = 'red')\n",
    "plt.xlabel ('K Value')\n",
    "plt.ylabel ('Testing Accuracy')\n",
    "plt.xticks (range (2,15,1))\n",
    "plt.show()"
   ]
  },
  {
   "cell_type": "markdown",
   "id": "77152aaa",
   "metadata": {},
   "source": [
    "It shows that when K = 5, the model has the highest accuracy. "
   ]
  },
  {
   "cell_type": "markdown",
   "id": "873ec53d",
   "metadata": {},
   "source": [
    "## Build K Nearest Neighbors method from scratch"
   ]
  },
  {
   "cell_type": "markdown",
   "id": "8b023072",
   "metadata": {},
   "source": [
    "There are several different methods to calculate the distance between two point, such as Euclidean, Manhattan, Hamming, etc.  \n",
    "I selected to use Euclidian method.\n"
   ]
  },
  {
   "cell_type": "markdown",
   "id": "dcc4e377",
   "metadata": {},
   "source": [
    "### Euclidean Distance"
   ]
  },
  {
   "cell_type": "markdown",
   "id": "7620d347",
   "metadata": {},
   "source": [
    "In mathematics, the Euclidean distance between two points in Euclidean space is the length of a line segment between the two points. It can be calculated from the Cartesian coordinates of the points using the Pythagorean theorem, therefore occasionally being called the Pythagorean distance. \n",
    "\n",
    "The distance between any two points on the real line is the absolute value of the numerical difference of their coordinates. Thus if ${\\displaystyle p}$ and ${\\displaystyle q} $are two points on the real line, then the distance between them is given by:\n",
    "\n",
    "${\\displaystyle d(p,q)=|p-q|.}$\n",
    "\n",
    "A more complicated formula, giving the same value, but generalizing more readily to higher dimensions, is:  \n",
    "${\\displaystyle d(p,q)={\\sqrt {(p-q)^{2}}}.}$"
   ]
  },
  {
   "attachments": {
    "600px-Euclidean_distance_2d.svg.png": {
     "image/png": "[encoded data removed]"
    }
   },
   "cell_type": "markdown",
   "id": "d84cbbb9",
   "metadata": {},
   "source": [
    "![600px-Euclidean_distance_2d.svg.png](attachment:600px-Euclidean_distance_2d.svg.png)"
   ]
  },
  {
   "cell_type": "code",
   "execution_count": 37,
   "id": "85eb14db",
   "metadata": {},
   "outputs": [],
   "source": [
    "#Importing the required modules\n",
    "from scipy.stats import mode"
   ]
  },
  {
   "cell_type": "code",
   "execution_count": 38,
   "id": "599ab000",
   "metadata": {},
   "outputs": [],
   "source": [
    " #Euclidean Distance\n",
    "def euc_distance(p,q):\n",
    "    distance = np.sqrt(np.sum((p-q)**2))\n",
    "    return distance"
   ]
  },
  {
   "cell_type": "code",
   "execution_count": 39,
   "id": "feddcf8b",
   "metadata": {},
   "outputs": [],
   "source": [
    "X_train_np = X_train.to_numpy()\n",
    "y_train_np= y_train.to_numpy()\n",
    "X_test_np= X_test.to_numpy()\n",
    "y_test_np= y_test.to_numpy()"
   ]
  },
  {
   "cell_type": "code",
   "execution_count": 40,
   "id": "feb501dd",
   "metadata": {},
   "outputs": [
    {
     "data": {
      "text/plain": [
       "(519, 6)"
      ]
     },
     "execution_count": 40,
     "metadata": {},
     "output_type": "execute_result"
    }
   ],
   "source": [
    "X_test_np.shape"
   ]
  },
  {
   "cell_type": "code",
   "execution_count": 41,
   "id": "0dea9e67",
   "metadata": {},
   "outputs": [
    {
     "data": {
      "text/plain": [
       "(519, 1)"
      ]
     },
     "execution_count": 41,
     "metadata": {},
     "output_type": "execute_result"
    }
   ],
   "source": [
    "y_test_np.shape"
   ]
  },
  {
   "cell_type": "code",
   "execution_count": 42,
   "id": "9e8ff1ac",
   "metadata": {},
   "outputs": [
    {
     "data": {
      "text/plain": [
       "(array([2, 0, 5, 4, 1, 2], dtype=int64), array([0], dtype=int64))"
      ]
     },
     "execution_count": 42,
     "metadata": {},
     "output_type": "execute_result"
    }
   ],
   "source": [
    "# check if euc_distance works or not\n",
    "X_train_np[1],y_train_np[2]"
   ]
  },
  {
   "cell_type": "code",
   "execution_count": 43,
   "id": "25020fa2",
   "metadata": {},
   "outputs": [
    {
     "data": {
      "text/plain": [
       "7.0710678118654755"
      ]
     },
     "execution_count": 43,
     "metadata": {},
     "output_type": "execute_result"
    }
   ],
   "source": [
    "euc_distance(X_train_np[1],y_train_np[2])"
   ]
  },
  {
   "cell_type": "code",
   "execution_count": 44,
   "id": "92a9389e",
   "metadata": {},
   "outputs": [],
   "source": [
    "#Founction find neighbors\n",
    "def k_nearest_neighbors(point, \n",
    "                        training_features, \n",
    "                        training_labels, \n",
    "                        k):\n",
    "    neighbors = []\n",
    "    for i, p in enumerate(training_features):\n",
    "        d = euc_distance(point, p)\n",
    "        temp_data = [p, training_labels[i], d]\n",
    "        neighbors.append(temp_data)\n",
    "        \n",
    "    neighbors.sort(key = lambda x : x[-1])\n",
    "    \n",
    "    return neighbors[:k]"
   ]
  },
  {
   "cell_type": "code",
   "execution_count": 45,
   "id": "6a8f2816",
   "metadata": {},
   "outputs": [
    {
     "name": "stdout",
     "output_type": "stream",
     "text": [
      "[1 0 3 5 0 0]\n"
     ]
    }
   ],
   "source": [
    "#Test if find neighbors works or not\n",
    "print (X_test_np[0])"
   ]
  },
  {
   "cell_type": "code",
   "execution_count": 46,
   "id": "652b4488",
   "metadata": {},
   "outputs": [
    {
     "data": {
      "text/plain": [
       "[[array([1, 0, 4, 5, 0, 0], dtype=int64), array([0], dtype=int64), 1.0],\n",
       " [array([1, 0, 3, 4, 0, 0], dtype=int64), array([0], dtype=int64), 1.0],\n",
       " [array([1, 0, 3, 5, 0, 1], dtype=int64), array([1], dtype=int64), 1.0]]"
      ]
     },
     "execution_count": 46,
     "metadata": {},
     "output_type": "execute_result"
    }
   ],
   "source": [
    "k_nearest_neighbors (X_test_np[0],X_train_np,y_train_np,3)"
   ]
  },
  {
   "cell_type": "code",
   "execution_count": 55,
   "id": "35dc71aa",
   "metadata": {},
   "outputs": [],
   "source": [
    "# Function KNN method\n",
    "def KNN_predict (point, \n",
    "                training_features, \n",
    "                training_labels, \n",
    "                k, \n",
    "                regression = False):\n",
    "    \n",
    "    neighbors = k_nearest_neighbors(point, \n",
    "                                    training_features, \n",
    "                                    training_labels, \n",
    "                                    k)\n",
    "    \n",
    "    if regression == False:\n",
    "        labels = [x[1] for x in neighbors]\n",
    "        return max(labels, key = labels.count)\n",
    "    \n",
    "    else: \n",
    "        return sum(x[1] for x in neighbors)/k"
   ]
  },
  {
   "cell_type": "code",
   "execution_count": 56,
   "id": "f2f3923d",
   "metadata": {},
   "outputs": [
    {
     "data": {
      "text/plain": [
       "(519, 6)"
      ]
     },
     "execution_count": 56,
     "metadata": {},
     "output_type": "execute_result"
    }
   ],
   "source": [
    "X_test_np.shape"
   ]
  },
  {
   "cell_type": "code",
   "execution_count": 57,
   "id": "cf43ea9e",
   "metadata": {},
   "outputs": [],
   "source": [
    "\n",
    "y_pred_np = KNN_predict(X_test_np[1], X_train_np, y_train_np, 5)"
   ]
  },
  {
   "cell_type": "code",
   "execution_count": 58,
   "id": "d4648cba",
   "metadata": {},
   "outputs": [
    {
     "name": "stdout",
     "output_type": "stream",
     "text": [
      "[2 2 3 5 2 1] [1] [1]\n"
     ]
    }
   ],
   "source": [
    "print (X_test_np[1], y_test_np[1],y_pred_np)"
   ]
  },
  {
   "cell_type": "code",
   "execution_count": 61,
   "id": "24537568",
   "metadata": {},
   "outputs": [],
   "source": [
    "def classification_error(test_features, \n",
    "                         test_labels,\n",
    "                         training_features, \n",
    "                         training_labels,\n",
    "                         k):\n",
    "    error = 0\n",
    "    for i, point in enumerate(test_features):\n",
    "        error += test_labels[i] != KNN_predict(point, \n",
    "                                               training_features, \n",
    "                                               training_labels, \n",
    "                                               k)\n",
    "    return error/k"
   ]
  },
  {
   "cell_type": "code",
   "execution_count": 62,
   "id": "62d4b456",
   "metadata": {},
   "outputs": [],
   "source": [
    "error = classification_error(X_test_np, y_test_np, X_train_np, y_train_np, 3)"
   ]
  },
  {
   "cell_type": "code",
   "execution_count": 63,
   "id": "0ac23412",
   "metadata": {},
   "outputs": [
    {
     "data": {
      "text/plain": [
       "array([12.])"
      ]
     },
     "execution_count": 63,
     "metadata": {},
     "output_type": "execute_result"
    }
   ],
   "source": [
    "error"
   ]
  },
  {
   "cell_type": "code",
   "execution_count": 66,
   "id": "0b03dda2",
   "metadata": {},
   "outputs": [],
   "source": [
    "predicted_labels = np.array ([KNN_predict(point, \n",
    "                                X_train_np, \n",
    "                                y_train_np, \n",
    "                                5) for point in X_test_np])"
   ]
  },
  {
   "cell_type": "markdown",
   "id": "48671999",
   "metadata": {},
   "source": [
    "### Predict Evaluation "
   ]
  },
  {
   "cell_type": "code",
   "execution_count": 73,
   "id": "9872ea96",
   "metadata": {},
   "outputs": [],
   "source": [
    "from sklearn.metrics import classification_report,confusion_matrix\n"
   ]
  },
  {
   "cell_type": "code",
   "execution_count": 76,
   "id": "1c0b3a85",
   "metadata": {},
   "outputs": [
    {
     "name": "stdout",
     "output_type": "stream",
     "text": [
      "[[364   4   0   0]\n",
      " [ 10 101   0   0]\n",
      " [  0   7  15   0]\n",
      " [  0   4   0  14]]\n"
     ]
    }
   ],
   "source": [
    "confusion_matrix_2 = confusion_matrix (y_test_np,predicted_labels)\n",
    "print (confusion_matrix_2)"
   ]
  },
  {
   "cell_type": "code",
   "execution_count": 75,
   "id": "1916e35f",
   "metadata": {},
   "outputs": [
    {
     "name": "stdout",
     "output_type": "stream",
     "text": [
      "              precision    recall  f1-score   support\n",
      "\n",
      "           0       0.97      0.99      0.98       368\n",
      "           1       0.87      0.91      0.89       111\n",
      "           2       1.00      0.68      0.81        22\n",
      "           3       1.00      0.78      0.88        18\n",
      "\n",
      "    accuracy                           0.95       519\n",
      "   macro avg       0.96      0.84      0.89       519\n",
      "weighted avg       0.95      0.95      0.95       519\n",
      "\n"
     ]
    }
   ],
   "source": [
    "print(classification_report(y_test_np,predicted_labels))"
   ]
  },
  {
   "cell_type": "markdown",
   "id": "084cf78d",
   "metadata": {},
   "source": [
    "## Conclusion "
   ]
  },
  {
   "cell_type": "markdown",
   "id": "21547a04",
   "metadata": {},
   "source": [
    "Comparing the test results of model from scikt-learn and my own model built from scratch, I found that both these two predict accuracy score are 0.95; macro avg socre of sciket-learn model predict result is 0.88, while the macro avg score  of my own model predict result is 0.89. These information indicates that my own model built from scratch is good enough to use for predicting."
   ]
  },
  {
   "cell_type": "code",
   "execution_count": null,
   "id": "e1bdb4d2",
   "metadata": {},
   "outputs": [],
   "source": []
  }
 ],
 "metadata": {
  "kernelspec": {
   "display_name": "Python 3",
   "language": "python",
   "name": "python3"
  },
  "language_info": {
   "codemirror_mode": {
    "name": "ipython",
    "version": 3
   },
   "file_extension": ".py",
   "mimetype": "text/x-python",
   "name": "python",
   "nbconvert_exporter": "python",
   "pygments_lexer": "ipython3",
   "version": "3.8.8"
  }
 },
 "nbformat": 4,
 "nbformat_minor": 5
}
